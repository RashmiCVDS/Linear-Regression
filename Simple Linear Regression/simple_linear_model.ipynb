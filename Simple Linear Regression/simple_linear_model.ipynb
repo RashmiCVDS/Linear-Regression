{
 "cells": [
  {
   "cell_type": "markdown",
   "metadata": {},
   "source": [
    "### Simple Linear Regression"
   ]
  },
  {
   "cell_type": "code",
   "execution_count": 15,
   "metadata": {
    "collapsed": true
   },
   "outputs": [],
   "source": [
    "import numpy as np\n",
    "from IPython.display import display, Math, Latex"
   ]
  },
  {
   "cell_type": "markdown",
   "metadata": {},
   "source": [
    "In Statistics, Linear regression is a linear approach which models the relationship between a dependent variable and one or more dependent variables. If it is one then it is known as simple linear regression.\n",
    "\n",
    "Linear regression is also known as least squares regression, simple linear regression is also known as ordinary least square regression."
   ]
  },
  {
   "cell_type": "markdown",
   "metadata": {},
   "source": [
    "Now we plot independent variable on X-axis and dependent variable on Y-axis. Now we draw a line $ Y = b0 +b1x $   in such a way that it covers all the points in a way that its best fitted. $Yi$ are the actual points and $\\hat{Y}i$ are the estimated/predicted points. $Yi$ - $\\hat{Yi}$ is the error $e$. "
   ]
  },
  {
   "attachments": {},
   "cell_type": "markdown",
   "metadata": {},
   "source": [
    "![rsz_simple-linear-regression-model.jpg](rsz_simple-linear-regression-model.jpg)\n",
    "\n",
    "Our objective is to reduce the error $e$.\n",
    "\n",
    "$ e = \\sum_{i=1}^{n} (Yi - \\hat{Yi})^2 $\n",
    "\n",
    "we square the error so that there are no negatives (-1 and 1 get canceled).\n",
    "\n",
    "According to Calculus, we take a derivate and equate it to zero so that we get the minimized form. Now we can dervive the slope and intercept."
   ]
  },
  {
   "cell_type": "markdown",
   "metadata": {},
   "source": [
    "We take partial derivative of the error $ e = \\sum_{i=1}^{n} (Yi - \\hat{Yi})^2 $ with respect to slope $b1$ and intercept $b0$.\n",
    "\n",
    "$ \\hat{Yi} = b0 + b1 Xi $ \n",
    "\n",
    "Now, we substitute above in error equation\n",
    "\n",
    "$ \\sum_{i=1}^{n} (Yi - b0 - b1Xi)^2 $\n",
    "\n",
    "Partial derivative with respect to $b0$\n",
    "\n",
    "$ \\frac{\\partial}{\\partial b0} \\sum_{i=1}^{n} (Yi - \\hat{Yi})^2 = 0 $\n",
    "\n",
    "$ - 2  \\sum_{i=1}^{n} (Yi - b0 - b1Xi) = 0 $\n",
    "\n",
    "$ \\sum_{i=1}^{n} Yi - b1 \\sum_{i=1}^{n} Xi = nb0 $\n",
    "\n",
    "$ (\\sum_{i=1}^{n} Yi)/n - b1 (\\sum_{i=1}^{n} Xi)/n  = b0 $\n",
    "\n",
    "we know that\n",
    "\n",
    "$(\\sum_{i=1}^{n} Yi)/n = \\bar{Y} $-------------------[1] \n",
    "\n",
    "and\n",
    "\n",
    "$(\\sum_{i=1}^{n} Xi)/n = \\bar{X}$-----------------[2]\n",
    "\n",
    "From [1] and [2]\n",
    "\n",
    "$ b0 = \\bar{Y} - b1 \\bar{X}$---------------------------[3]\n",
    "\n",
    "Partial derivative with respect to $b1$\n",
    "\n",
    "$ \\frac{\\partial}{\\partial b1} \\sum_{i=1}^{n} (Yi - \\hat{Yi})^2 = 0 $\n",
    "\n",
    "$ - 2  \\sum_{i=1}^{n} (Yi - b0 - b1Xi)Xi = 0 $\n",
    "\n",
    "$ \\sum_{i=1}^{n}(Yi Xi - b0 Xi - b1 Xi^2) = 0 $\n",
    "\n",
    "$ \\sum_{i=1}^{n}Yi Xi - \\sum_{i=1}^{n}(\\bar{Y} - b1 \\bar{X})Xi - b1 \\sum_{i=1}^{n} Xi^2 = 0 $\n",
    "\n",
    "$ \\sum_{i=1}^{n}Yi Xi - \\sum_{i=1}^{n}(\\bar{Y}Xi - \\bar{X}Xi) - b1 \\sum_{i=1}^{n} Xi^2 = 0 $\n",
    "\n",
    "$ \\sum_{i=1}^{n}Yi Xi - \\sum_{i=1}^{n}\\bar{Y}Xi + \\sum_{i=1}^{n} \\bar{X}Xi - b1 \\sum_{i=1}^{n} Xi^2 = 0 $\n",
    "\n",
    "from [2] we get $(\\sum_{i=1}^{n} Xi) = n \\bar{X}$\n",
    "\n",
    "$  \\sum_{i=1}^{n}Yi Xi - n \\bar{X} \\bar{Y} +  n \\bar{X} \\bar{X} - b1 \\sum_{i=1}^{n} Xi^2 = 0 $\n",
    "\n",
    "$  \\sum_{i=1}^{n}Yi Xi - n \\bar{X} \\bar{Y} = b1 \\sum_{i=1}^{n} Xi^2 - n \\bar{X}^2 $\n",
    "\n",
    "$ b1 = (\\sum_{i=1}^{n}Yi Xi - n \\bar{X} \\bar{Y})/\\sum_{i=1}^{n} Xi^2 - n \\bar{X}^2) $----------------------------[4]\n",
    "\n",
    "\n",
    "[3] and [4] are the normal equations\n",
    "\n",
    "$ b0 = \\bar{Y} - b1 \\bar{X}$\n",
    "\n",
    "$ b1 = (\\sum_{i=1}^{n}Yi Xi - n \\bar{X} \\bar{Y})/\\sum_{i=1}^{n} Xi^2 - n \\bar{X}^2) $\n",
    "\n",
    "Now we have the $b0$ intercept and the slope $b1$\n"
   ]
  },
  {
   "cell_type": "markdown",
   "metadata": {},
   "source": [
    "Slope $b1$ can also be expressed in terms of covariance and variance which is \n",
    "\n",
    "$ b1 = (\\sum_{i=1}^{n} (Yi - \\bar{Yi}) (Xi - \\bar{X})/\\sum_{i=1}^{n} ( Xi - \\bar{X})^2 $ \n",
    "\n",
    "If we further simplify [4] we get this equation"
   ]
  },
  {
   "cell_type": "markdown",
   "metadata": {},
   "source": [
    "We Train the model and get the $b0$ and $b1$ Values, by using trained slope and intercept values we predict the new test instance."
   ]
  },
  {
   "cell_type": "code",
   "execution_count": 3,
   "metadata": {
    "collapsed": true
   },
   "outputs": [],
   "source": [
    "## sumation \n",
    "def sumation(x):\n",
    "    s = 0\n",
    "    for i in x:\n",
    "        s =+ i\n",
    "    return(s)"
   ]
  },
  {
   "cell_type": "code",
   "execution_count": 4,
   "metadata": {
    "collapsed": true
   },
   "outputs": [],
   "source": [
    "# Average\n",
    "def avg(x):\n",
    "    a = sumation(x)/len(x)\n",
    "    return(int(a))        "
   ]
  },
  {
   "cell_type": "code",
   "execution_count": 5,
   "metadata": {
    "collapsed": true
   },
   "outputs": [],
   "source": [
    "# Simple linear model\n",
    "def lm(x,y):\n",
    "    x = np.array(x)\n",
    "    y = np.array(y)\n",
    "    a1 = ((sumation(x*y)) - (len(x)*avg(x)*avg(y)))/((sumation(x*x))-(len(x)*(avg(x))*(avg(x))))\n",
    "    a2 = avg(y) -((a1)*avg(x))\n",
    "    return (a1,a2)"
   ]
  },
  {
   "cell_type": "code",
   "execution_count": 6,
   "metadata": {
    "collapsed": true
   },
   "outputs": [],
   "source": [
    "# Error \n",
    "def error(predictions,actual):\n",
    "    for i in range(0,len(actual)):\n",
    "        er =+ actual[i] - float(predictions[i])\n",
    "    return er\n",
    "    "
   ]
  },
  {
   "cell_type": "code",
   "execution_count": 7,
   "metadata": {
    "collapsed": true
   },
   "outputs": [],
   "source": [
    "# Prediction\n",
    "def pred(lm,x):\n",
    "    y = []\n",
    "    for i in x:\n",
    "        y.append((lm[0])*(i) + lm[1])\n",
    "    return y"
   ]
  },
  {
   "cell_type": "code",
   "execution_count": 8,
   "metadata": {
    "collapsed": true
   },
   "outputs": [],
   "source": [
    "# attributes\n",
    "a =[10,20,40,59] # independent variable/predictor\n",
    "b =[1,23,34,54] # dependent variable/target"
   ]
  },
  {
   "cell_type": "code",
   "execution_count": 9,
   "metadata": {},
   "outputs": [
    {
     "data": {
      "text/plain": [
       "(0.91138301816833522, 0.24063774564330664)"
      ]
     },
     "execution_count": 9,
     "metadata": {},
     "output_type": "execute_result"
    }
   ],
   "source": [
    "lm(a,b) # we will get slope and intercept"
   ]
  },
  {
   "cell_type": "code",
   "execution_count": 10,
   "metadata": {
    "collapsed": true
   },
   "outputs": [],
   "source": [
    "f = lm(a,b)"
   ]
  },
  {
   "cell_type": "code",
   "execution_count": 11,
   "metadata": {
    "collapsed": true
   },
   "outputs": [],
   "source": [
    "test_a = [20,30,40,50]\n",
    "test_b = [2,3,4,5]"
   ]
  },
  {
   "cell_type": "code",
   "execution_count": 12,
   "metadata": {
    "collapsed": true
   },
   "outputs": [],
   "source": [
    "predictions = pred(f,test_a) # "
   ]
  },
  {
   "cell_type": "code",
   "execution_count": 13,
   "metadata": {},
   "outputs": [
    {
     "data": {
      "text/plain": [
       "[18.468298109010014,\n",
       " 27.582128290693362,\n",
       " 36.695958472376716,\n",
       " 45.809788654060064]"
      ]
     },
     "execution_count": 13,
     "metadata": {},
     "output_type": "execute_result"
    }
   ],
   "source": [
    "predictions"
   ]
  },
  {
   "cell_type": "code",
   "execution_count": 13,
   "metadata": {},
   "outputs": [
    {
     "data": {
      "text/plain": [
       "-40.809788654060064"
      ]
     },
     "execution_count": 13,
     "metadata": {},
     "output_type": "execute_result"
    }
   ],
   "source": [
    "error(predictions,test_b)"
   ]
  }
 ],
 "metadata": {
  "kernelspec": {
   "display_name": "Python 3",
   "language": "python",
   "name": "python3"
  },
  "language_info": {
   "codemirror_mode": {
    "name": "ipython",
    "version": 3
   },
   "file_extension": ".py",
   "mimetype": "text/x-python",
   "name": "python",
   "nbconvert_exporter": "python",
   "pygments_lexer": "ipython3",
   "version": "3.6.1"
  }
 },
 "nbformat": 4,
 "nbformat_minor": 2
}
